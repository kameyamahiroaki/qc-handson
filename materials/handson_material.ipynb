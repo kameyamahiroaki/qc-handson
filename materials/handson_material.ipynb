{
  "cells": [
    {
      "cell_type": "markdown",
      "id": "4bede962",
      "metadata": {
        "id": "4bede962"
      },
      "source": [
        "## FUJITSU CONFIDENTIAL"
      ]
    },
    {
      "cell_type": "markdown",
      "id": "b4c41b55",
      "metadata": {
        "id": "b4c41b55"
      },
      "source": [
        "# ハンズオンセミナー講義資料[![Open In Colab](https://colab.research.google.com/assets/colab-badge.svg)](https://colab.research.google.com/github/kameyamahiroaki/qc-handson/blob/main/materials/handson_material.ipynb)\n",
        "\n",
        "<div align=\"right\">\n",
        "Date:2025.7.25\n",
        "</div>\n",
        "\n",
        "# ⚠️ [注意‼]  \n",
        "本資料の内容，結果等の公開は禁止とさせていただきます。予めご了承ください。\n",
        "\n",
        "\n",
        "# Contents\n",
        "本日のハンズオンセミナ（第2部）で使用する説明資料の構成は以下の通りです．\n",
        "1. SDKの紹介  \n",
        "    1.1 Google Colabを使ったSDK利用環境の準備    \n",
        "    1.2 利用できる量子デバイス  \n",
        "    1.3 量子回路シミュレータを使用したタスクの実行  \n",
        "    1.4 量子コンピュータを使用したタスクの実行  \n",
        "    1.5 タスクリストの取得  \n",
        "    1.6 タスクの詳細設定  \n",
        "2. Groverのアルゴリズムの実行  \n",
        "    2.1 Groverのアルゴリズムの紹介  \n",
        "    2.2 量子コンピュータを使用したGroverのアルゴリズムの実行"
      ]
    },
    {
      "cell_type": "markdown",
      "id": "351c4864",
      "metadata": {
        "id": "351c4864"
      },
      "source": [
        "# 1. 量子クラウドプラットフォーム SDKの紹介\n",
        "本ハンズオンでは, 量子クラウドを介した量子コンピュータや量子回路シミュレータへのタスク投入，結果の確認等に`fujitsu-quantum`（以下，SDK）を利用します．SDKを使うことで量子クラウドのすべての機能を利用することができます．PyPIを通じて利用可能です.  \n",
        "\n",
        "## 1.1 SDKのインストール\n",
        "下記コマンドを実行してSDKをインストールしてください．なお，ライブラリの依存性に関するエラーが表示されますが，動作に問題ありません. 事前に送付いたしました資料を参考にSDKの利用環境を整備されている方は，省略していただいても問題ありません。\n"
      ]
    },
    {
      "cell_type": "code",
      "execution_count": null,
      "id": "319867d2",
      "metadata": {
        "id": "319867d2"
      },
      "outputs": [],
      "source": [
        "! pip install fujitsu-quantum"
      ]
    },
    {
      "cell_type": "markdown",
      "id": "04674f29",
      "metadata": {
        "id": "04674f29"
      },
      "source": [
        "## 1.1.2 各種ライブラリのインストール\n",
        "本セミナーで使用する関連ライブラリのインストールしてください"
      ]
    },
    {
      "cell_type": "code",
      "execution_count": null,
      "id": "58a8c3ae",
      "metadata": {
        "id": "58a8c3ae"
      },
      "outputs": [],
      "source": [
        "! pip install qiskit Matplotlib qiskit_qasm3_import pylatexenc"
      ]
    },
    {
      "cell_type": "markdown",
      "id": "1e361041",
      "metadata": {
        "id": "1e361041"
      },
      "source": [
        "## 1.1.3 認証\n",
        "SDKを用いて量子クラウドを利用するためには認証が必要です．事前資料で準備したUsername，PW，MFA機器を用い，`login()`関数を実行してログインしてください．"
      ]
    },
    {
      "cell_type": "code",
      "execution_count": null,
      "id": "db2acd6c",
      "metadata": {
        "id": "db2acd6c"
      },
      "outputs": [],
      "source": [
        "from fujitsu_quantum.cmd import login, test, logout\n",
        "login()"
      ]
    },
    {
      "cell_type": "markdown",
      "id": "3ecd08ee",
      "metadata": {
        "id": "3ecd08ee"
      },
      "source": [
        "## 1.1.4 インストール後の動作確認\n",
        "認証後，`test()`関数を実行してください．"
      ]
    },
    {
      "cell_type": "code",
      "execution_count": null,
      "id": "a3c8ca87",
      "metadata": {
        "id": "a3c8ca87"
      },
      "outputs": [],
      "source": [
        "test()"
      ]
    },
    {
      "cell_type": "markdown",
      "id": "984c59c7",
      "metadata": {
        "id": "984c59c7"
      },
      "source": [
        "以上で，SDKの動作確認は終了です．"
      ]
    },
    {
      "cell_type": "markdown",
      "id": "8666155b",
      "metadata": {
        "id": "8666155b"
      },
      "source": [
        "認証したTokenはデバイスごとに発行，格納されます．なお，Tokenの有効期間は，アカウント削除に伴い失効するためハンズオン期間中のみです．\n",
        "\n",
        "> ⚠️ [Note]   \n",
        "> - Shellでログインされる方は，以下を参考に`username`，`password`，`TOTP code`(MFAcode)を入力してください．   \n",
        ">> $ fujitsu-quantmu login    \n",
        ">> Enter username: ***    \n",
        ">> Enter password: **********    \n",
        ">> Enter the a TOTP code (6 digits) for MFA: ******   \n",
        ">> Authetificaton succeeded    \n",
        ">> Successfully login   \n",
        "> - 認証情報は，defaultでは以下の各OSのホームディレクトリ直下の`.fujitsu-quantum`に格納されます．  \n",
        ">> - Linux/MacOS  \n",
        ">>  home/.fujitsu-quantum   \n",
        ">> - Windows  \n",
        ">>  home/.fujitsu-quantum   "
      ]
    },
    {
      "cell_type": "markdown",
      "id": "054ba300",
      "metadata": {
        "id": "054ba300"
      },
      "source": [
        "## 1.2 利用できる量子デバイス\n",
        "\n",
        "富士通の量子クラウドで利用できる量子デバイスは，以下の3種類です．  \n",
        "- 量子コンピュータ実機（64bit機）\n",
        "- 量子コンピュータ実機（256bit機）\n",
        "- 量子回路シミュレータ\n",
        "\n",
        "これらのデバイスリストは，`Devices.list()` で取得でき，以下の情報を取得できます．  \n",
        "\n",
        "| パラメータ| 説明 |\n",
        "|----|----|  \n",
        "| `device_id` | デバイス名　　　　　　　ex. SC：量子コンピュータ， SVSim：量子回路シミュレータ|\n",
        "| `device_type` | デバイスの種類　　　　　ex. QPU，Simulator |\n",
        "| `description` | デバイスの詳細　　　　　ex. Superconducting quantum computer ... |\n",
        "| `status` | デバイスのステータス　　ex. available, maintenance, など |\n",
        "| `n_qubits` | 利用可能な量子ビット数 |\n",
        "| `basic_gates` | デバイスがサポートするゲートの種類\n",
        "| `pending_tasks` | 実行待ちのタスク数"
      ]
    },
    {
      "cell_type": "code",
      "execution_count": null,
      "id": "e738ba3d",
      "metadata": {
        "id": "e738ba3d"
      },
      "outputs": [],
      "source": [
        "from fujitsu_quantum.devices import Devices\n",
        "\n",
        "devices = Devices.list()\n",
        "\n",
        "for dev in devices:\n",
        "    print(f'{dev.device_id       =}') # device ID (e.g., SVSim)\n",
        "    print(f'{dev.device_type     =}') # QPU or Simulator\n",
        "    print(f'{dev.description     =}') # description of the device\n",
        "    print(f'{dev.status          =}') # device status (e.g., available, maintenance, reserved, etc.)\n",
        "    print(f'{dev.n_qubits        =}') # the number of available qubits\n",
        "    print(f'{dev.basis_gates     =}') # quantum gates the device supports\n",
        "    print(f'{dev.n_pending_tasks =}') # the number of tasks waiting for execution\n",
        "    print('-------------------------')\n"
      ]
    },
    {
      "cell_type": "markdown",
      "id": "a6e21a91",
      "metadata": {
        "id": "a6e21a91"
      },
      "source": [
        "### 1.2.1 量子コンピュータのパラメータ\n",
        "特定のデバイスの情報を知りたいときは，`Device.get(device_id)` を使用します．例として量子コンピュータ実機（`device_id='SC'`）のパラメータリストを取得します．"
      ]
    },
    {
      "cell_type": "code",
      "execution_count": null,
      "id": "182ca473",
      "metadata": {
        "id": "182ca473"
      },
      "outputs": [],
      "source": [
        "from fujitsu_quantum.devices import Devices\n",
        "dev_sc = Devices.get('SC')\n",
        "print(dev_sc)"
      ]
    },
    {
      "cell_type": "markdown",
      "id": "d1339b53",
      "metadata": {
        "id": "d1339b53"
      },
      "source": [
        "### 1.2.2 量子回路シミュレータのパラメータ\n",
        "\n",
        "同様に，量子回路シミュレータ(`device_id='SVSim'`)の情報を取得したいときは，"
      ]
    },
    {
      "cell_type": "code",
      "execution_count": null,
      "id": "8a01185d",
      "metadata": {
        "id": "8a01185d"
      },
      "outputs": [],
      "source": [
        "from fujitsu_quantum.devices import Devices\n",
        "dev_sim = Devices.get('SVSim')\n",
        "print(dev_sim)"
      ]
    },
    {
      "cell_type": "markdown",
      "id": "ebd941ab",
      "metadata": {
        "id": "ebd941ab"
      },
      "source": [
        "以上のように取得できます．"
      ]
    },
    {
      "cell_type": "markdown",
      "id": "dacedc4f",
      "metadata": {
        "id": "dacedc4f"
      },
      "source": [
        "また，特定の量子デバイスの利用の可否の状態を知りたい場合は，`Devices.get(...)` 関数と知りたいデバイスのパラメータ（`device_Id`，`status`）を使い，以下のように取得できます．"
      ]
    },
    {
      "cell_type": "code",
      "execution_count": null,
      "id": "894637a4",
      "metadata": {
        "id": "894637a4"
      },
      "outputs": [],
      "source": [
        "from fujitsu_quantum.devices import Devices\n",
        "dev = Devices.get('SVSim')\n",
        "print(f'{dev.status=}')\n",
        "\n",
        "# もしくは，\n",
        "print(Devices.get('SC').status)"
      ]
    },
    {
      "cell_type": "markdown",
      "id": "4fd58913",
      "metadata": {
        "id": "4fd58913"
      },
      "source": [
        "### 1.2.3 計算できるタスクの種類\n",
        "\n",
        "量子クラウドでサポートする量子タスクは，サンプリング計算と期待値計算，ハイブリッド計算の3種類です．前2者をプリミティブタスクと呼び，サンプリングタスク，期待値タスクと呼びます．本資料ではプリミティブタスクについて説明いたします\n",
        "\n",
        "| タイプ | 詳細 |\n",
        "|----|----|\n",
        "|　サンプリングタスク　|　量子回路を実行して準備された量子状態からサンプリングします\n",
        "|　期待値タスク　|　量子回路を実行して準備された量子状態に対するオブザーバブル（オペレータ）の期待値を計算します．\n",
        "| ハイブリッドタスク　|　ユーザーが書いたプログラム全体を実行します．これらのプログラムには古典的な部分と量子部分の両方が含まれ，量子デバイスの近くにあるサーバーマシンで実行されます．"
      ]
    },
    {
      "cell_type": "markdown",
      "id": "9e87076f",
      "metadata": {
        "id": "9e87076f"
      },
      "source": [
        "次節以降では，量子回路シミュレータ，量子コンピュータ実機を用い，サンプリングタスクの実行とタスクの詳細について説明します．\n",
        "\n",
        "内容  \n",
        "- サンプリングタスク\n",
        "- 期待値タスク\n",
        "- 各タスクの設定\n",
        "- 結果の取得\n",
        "- ヘルパー関数"
      ]
    },
    {
      "cell_type": "markdown",
      "id": "eac1edc7",
      "metadata": {
        "id": "eac1edc7"
      },
      "source": [
        "## 1.3 量子回路シミュレータを使ったタスクの実行\n",
        "\n",
        "本節では，量子回路シミュレータで実際にサンプリングタスク，期待値タスクを実行します．"
      ]
    },
    {
      "cell_type": "markdown",
      "id": "5aaddbcc",
      "metadata": {
        "id": "5aaddbcc"
      },
      "source": [
        "### 1.3.1 サンプリングタスク\n",
        "\n",
        "サンプリングタスクを量子回路シミュレータで実行します．\n",
        "サンプリングタスクは，`device.submit_sampling_task(...)` を使い実行します．OpenQASM形式によって定義された量子回路と，計算条件を入力とし，量子クラウドにサンプリングタスクとして投入，実行します．計算結果は `Task.result()` により取得します．\n",
        "\n",
        "サンプリングタスクの実行例を以下に示します．"
      ]
    },
    {
      "cell_type": "markdown",
      "id": "ea66d066",
      "metadata": {
        "id": "ea66d066"
      },
      "source": [
        "#### (1) デバイスの指定  \n",
        "`Devices` を使い，量子回路シミュレータ(`SVSim`)を指定する．"
      ]
    },
    {
      "cell_type": "code",
      "execution_count": null,
      "id": "49171b93",
      "metadata": {
        "id": "49171b93"
      },
      "outputs": [],
      "source": [
        "from fujitsu_quantum.devices import Devices\n",
        "from fujitsu_quantum.tasks import Task\n",
        "\n",
        "dev = Devices.get('SVSim')\n",
        "print(f'{dev.status=}')"
      ]
    },
    {
      "cell_type": "markdown",
      "id": "3657fe58",
      "metadata": {
        "id": "3657fe58"
      },
      "source": [
        "#### (2) 量子回路の定義  \n",
        "2量子ビットのベル状態を作る量子回路を準備します．`fujitsu-quantum` では，量子回路を OpenQASM3.0 の code で定義します．"
      ]
    },
    {
      "cell_type": "code",
      "execution_count": null,
      "id": "80e2e591",
      "metadata": {
        "id": "80e2e591"
      },
      "outputs": [],
      "source": [
        "program = '''\n",
        "OPENQASM 3.0;\n",
        "include \"stdgates.inc\";\n",
        "qubit[2] q;\n",
        "h q[0];\n",
        "cx q[0], q[1];\n",
        "'''"
      ]
    },
    {
      "cell_type": "markdown",
      "id": "2b75291d",
      "metadata": {
        "id": "2b75291d"
      },
      "source": [
        "#### (3) 量子回路の描画  \n",
        " `qisikit.qams3` モジュールを使用して定義した量子回路を描画します．"
      ]
    },
    {
      "cell_type": "code",
      "execution_count": null,
      "id": "57839aac",
      "metadata": {
        "id": "57839aac"
      },
      "outputs": [],
      "source": [
        "from qiskit.qasm3 import loads\n",
        "\n",
        "# 量子回路のロード\n",
        "circuit = loads(program)\n",
        "\n",
        "# 量子回路の描画\n",
        "circuit.draw('mpl')"
      ]
    },
    {
      "cell_type": "markdown",
      "id": "5c0278a7",
      "metadata": {
        "id": "5c0278a7"
      },
      "source": [
        "> なお，主要な SDK（Tangelo，pytket，Qiskitなど）では，量子回路から OpenQASM code への変換が可能です．`fujitsu-quantam` では，Qulacs から変換する関数を用意しています．本日は，Qiskit で作成した量子回路を `qiskit.qams3` モジュールを使用して用意します．上記量子回路は，Qiskit では以下のように記述します．"
      ]
    },
    {
      "cell_type": "code",
      "execution_count": null,
      "id": "90729924",
      "metadata": {
        "id": "90729924"
      },
      "outputs": [],
      "source": [
        "from qiskit import QuantumCircuit\n",
        "\n",
        "qc = QuantumCircuit(2)\n",
        "qc.h(0)\n",
        "qc.cx(0, 1)\n",
        "\n",
        "qc.draw('mpl')"
      ]
    },
    {
      "cell_type": "markdown",
      "id": "e15c46c1",
      "metadata": {
        "id": "e15c46c1"
      },
      "source": [
        "> 次に，Qiskitで記述した量子回路 `qc` を `qiskit.qams3` の `dumps` 関数を用いてOpenQASM3 codeの `program` に変換します．"
      ]
    },
    {
      "cell_type": "code",
      "execution_count": null,
      "id": "263ab359",
      "metadata": {
        "id": "263ab359"
      },
      "outputs": [],
      "source": [
        "from qiskit.qasm3 import dumps\n",
        "\n",
        "program = dumps(qc)\n",
        "print(program)"
      ]
    },
    {
      "cell_type": "markdown",
      "id": "e2ed0a59",
      "metadata": {
        "id": "e2ed0a59"
      },
      "source": [
        "#### (4) サンプリングタスクの投入  \n",
        "サンプリングタスクの投入には，`submit_sampling_task(...)` メソッドを使用し，入力パラメータとして OpenQASM で定義された量子回路 `program` とサンプリング回数 `n_shots` を設定します．今回は100を指定します。投入されたタスクは量子クラウドのデバイスのキューに積まれます．"
      ]
    },
    {
      "cell_type": "code",
      "execution_count": null,
      "id": "c008a691",
      "metadata": {
        "id": "c008a691"
      },
      "outputs": [],
      "source": [
        "s_task = dev.submit_sampling_task(program=program, n_shots=100)"
      ]
    },
    {
      "cell_type": "markdown",
      "id": "5f539130",
      "metadata": {
        "id": "5f539130"
      },
      "source": [
        "#### (5) 実行結果の取得  \n",
        "`result()` メソッドを使用します．タスクの実行が完了するまで待機します．"
      ]
    },
    {
      "cell_type": "code",
      "execution_count": null,
      "id": "880ccbfb",
      "metadata": {
        "id": "880ccbfb"
      },
      "outputs": [],
      "source": [
        "s_result = s_task.result()\n",
        "print(f'{s_result.counts=}')"
      ]
    },
    {
      "cell_type": "markdown",
      "id": "c2abadf8",
      "metadata": {
        "id": "c2abadf8"
      },
      "source": [
        "実行時間のプロファイルは以下のコマンドで取得できます．結果に含まれるパラメータについては1.6節で説明します．"
      ]
    },
    {
      "cell_type": "code",
      "execution_count": null,
      "id": "bb785bad",
      "metadata": {
        "id": "bb785bad"
      },
      "outputs": [],
      "source": [
        "s_result.time_profile"
      ]
    },
    {
      "cell_type": "markdown",
      "id": "4845525d",
      "metadata": {
        "id": "4845525d"
      },
      "source": [
        "#### (6) 結果の描画\n",
        "\n",
        "サンプリング計算結果をグラフに描画します．"
      ]
    },
    {
      "cell_type": "code",
      "execution_count": null,
      "id": "ea2adeca",
      "metadata": {
        "id": "ea2adeca",
        "colab": {
          "base_uri": "https://localhost:8080/",
          "height": 487
        },
        "outputId": "72dbec92-4d79-4b9e-8994-5f7b260a8f1a"
      },
      "source": [
        "from qiskit.visualization import plot_histogram\n",
        "title = 'Measurement Results (device_id: SVSim)'\n",
        "plot_histogram(s_result.counts, title=title)"
      ]
    },
    {
      "cell_type": "markdown",
      "id": "b76f5f79",
      "metadata": {
        "id": "b76f5f79"
      },
      "source": [
        "### 1.3.2 タスクリストの取得  \n",
        "投入したタスクのリストは，`Tasks.iter()` を使い，取得できます。"
      ]
    },
    {
      "cell_type": "code",
      "execution_count": null,
      "id": "e6538886",
      "metadata": {
        "id": "e6538886"
      },
      "outputs": [],
      "source": [
        "from fujitsu_quantum.tasks import Tasks\n",
        "tasks_iter = Tasks.iter() # 今までに送信したタスク⼀覧を取得\n",
        "for t in tasks_iter:\n",
        "    print(t)\n",
        "    print('----------------')\n",
        "    break"
      ]
    },
    {
      "cell_type": "markdown",
      "id": "09366cf5",
      "metadata": {
        "id": "09366cf5"
      },
      "source": [
        "最新のタスクは，以下のコマンドで取得します"
      ]
    },
    {
      "cell_type": "code",
      "execution_count": null,
      "id": "d1a7581a",
      "metadata": {
        "id": "d1a7581a"
      },
      "outputs": [],
      "source": [
        "print(next(Tasks.iter()))"
      ]
    },
    {
      "cell_type": "markdown",
      "id": "9e6ec0df",
      "metadata": {
        "id": "9e6ec0df"
      },
      "source": [
        "## 1.4 量子コンピュータ実機を使ったタスクの実行\n",
        "### 1.4.1  デバイスの指定\n",
        "\n",
        "`Devices` で量子コンピュータ実機 `SC` を指定する．"
      ]
    },
    {
      "cell_type": "code",
      "execution_count": null,
      "id": "eacd5dbb",
      "metadata": {
        "id": "eacd5dbb"
      },
      "outputs": [],
      "source": [
        "dev_sc = Devices.get('SC')"
      ]
    },
    {
      "cell_type": "markdown",
      "id": "feaf512a",
      "metadata": {
        "id": "feaf512a"
      },
      "source": [
        "### 1.4.2 タスクの投入\n",
        "以下，タスクの実行方法，結果の取得方法は，量子回路シミュレータと同様です．\n",
        "\n",
        "#### (1) サンプリング計算\n",
        "使用する関数，量子回路シミュレータと同じです．量子回路のコード`program` は，1.3.1(2)のベル状態の量子回路を使います．ショット数 `n_shots` も設定します。"
      ]
    },
    {
      "cell_type": "code",
      "execution_count": null,
      "id": "b614c3bd",
      "metadata": {
        "id": "b614c3bd"
      },
      "outputs": [],
      "source": [
        "s_task_sc = dev_sc.submit_sampling_task(program=program, n_shots=1000)"
      ]
    },
    {
      "cell_type": "markdown",
      "id": "41c35993",
      "metadata": {
        "id": "41c35993"
      },
      "source": [
        "### 1.4.3 結果の取得\n",
        "#### (1) サンプリング計算結果\n",
        "\n",
        "計算結果を取得します"
      ]
    },
    {
      "cell_type": "code",
      "execution_count": null,
      "id": "b30f73c9",
      "metadata": {
        "id": "b30f73c9"
      },
      "outputs": [],
      "source": [
        "s_result_sc = s_task_sc.result()\n",
        "print(f'{s_result_sc.counts=}') #"
      ]
    },
    {
      "cell_type": "markdown",
      "id": "31f56346",
      "metadata": {
        "id": "31f56346"
      },
      "source": [
        "測定結果をグラフに出力します．縦軸はカウント数，横軸は状態です．"
      ]
    },
    {
      "cell_type": "code",
      "execution_count": null,
      "id": "b1ebdf29",
      "metadata": {
        "id": "b1ebdf29"
      },
      "outputs": [],
      "source": [
        "from qiskit.visualization import plot_histogram\n",
        "\n",
        "# グラフ描画\n",
        "title = 'Measurement Results (device_id: SC)'\n",
        "plot_histogram(s_result_sc.counts, title=title)"
      ]
    },
    {
      "cell_type": "markdown",
      "id": "705a3534",
      "metadata": {
        "id": "705a3534"
      },
      "source": [
        "これまでに実行した量子コンピュータ実機と量子回路シミュレータのサンプリング計算結果を比較します．"
      ]
    },
    {
      "cell_type": "markdown",
      "id": "803fa159",
      "metadata": {
        "id": "803fa159"
      },
      "source": [
        "- 各デバイスで計算したカウント数を確認します．"
      ]
    },
    {
      "cell_type": "code",
      "execution_count": null,
      "id": "1099f785",
      "metadata": {
        "id": "1099f785"
      },
      "outputs": [],
      "source": [
        "# 量子コンピュータ\n",
        "print('量子コンピュータ実機')\n",
        "print(f'{s_result_sc.counts=}')\n",
        "print('--------------------------')\n",
        "\n",
        "# 量子回路シミュレータ\n",
        "print('量子回路シミュレータ')\n",
        "print(f'{s_result.counts=}')"
      ]
    },
    {
      "cell_type": "markdown",
      "id": "d11ff004",
      "metadata": {
        "id": "d11ff004"
      },
      "source": [
        "- グラフ上に重ねて表示します．  \n",
        "量子コンピュータでは，`00`，`11`以外の状態があることが確認できます．"
      ]
    },
    {
      "cell_type": "code",
      "execution_count": null,
      "id": "d23c395e",
      "metadata": {
        "id": "d23c395e"
      },
      "outputs": [],
      "source": [
        "plot_histogram([s_result_sc.counts, s_result.counts], legend=['QPU (SC)', 'Simulator (SVSim)'])"
      ]
    },
    {
      "cell_type": "markdown",
      "id": "f7f03081",
      "metadata": {
        "id": "f7f03081"
      },
      "source": [
        "## 1.5 タスクの詳細設定  \n",
        "\n",
        "サンプリングタスクと期待値推定タスクには，以下のパラメータを利用できます．\n",
        "\n",
        "- 今回のハンズオンで使用したパラメータ  \n",
        "\n",
        "| パラメータ | 内容 |\n",
        "| ---- | ---- |\n",
        "| program | 実行するOpenQASMのプログラム |  \n",
        "| operator | `submit_estimation_task(...)`に限定して利用できます．|\n",
        "| method | `submit_estimation_task(...)`に限定して利用できます．期待値をどのように計算するか設定します．<br>- `sampling`:<br>期待値を量子状態からのサンプリング結果に基づいて推定します．この方法を指定する際は，`n_shots`も指定する必要があります． 　<br>- `state_vector`:<br>理想的な期待値を量子状態の状態ベクトルに基づいて計算します．この方法は，量子状態の状態ベクトルが利用可能な量子回路シミュレーターでのみ利用できます．\n",
        "| n_shots | サンプリング回数．|\n",
        "| seed_transpilation | サーバー側のトランスパイル用のランダムシード． |\n",
        "| ro_error_mitigation | 量子コンピュータ用．読み出しエラー緩和の有無．`None`: default，`pseudo_inverse`: 読み出し混同行列の擬似逆行列をサンプリング結果に掛けることで緩和します．\n",
        "| include_transpilation_result| `True`: 計算結果にトランスパイル後の量子回路を含みます．`False`: default |\n",
        "| name | タスクの名前（任意記述）．|\n",
        "| note | ユーザーがメモを設定できます． |"
      ]
    },
    {
      "cell_type": "markdown",
      "id": "9e51511e",
      "metadata": {
        "id": "9e51511e"
      },
      "source": [
        "- 今回のハンズオンでは使わないパラメータ  \n",
        "\n",
        "| パラメータ | 内容 |\n",
        "| ---- | ---- |\n",
        "| parameter_values | プログラム中のパラメータに割り当てる値. |\n",
        "| skip_transpilation | サーバー側でのトランスパイルをスキップするか否か. |\n",
        "| transpilation_options | トランスパイルオプション．最適化レベルの設定. |\n",
        "| qubit allocation | 量子コンピュータ用．プログラム内の仮想量子ビットをどのように物理量子ビットに割り当てるかを指定. |\n",
        "| estimation_dop | 量子コンピュータ用．Samplingで実行する期待値計算における回路実行の並列化度合い．|"
      ]
    },
    {
      "cell_type": "markdown",
      "id": "341e16ee",
      "metadata": {
        "id": "341e16ee"
      },
      "source": [
        "たとえば，先ほど実行したサンプリング計算でトランスパイル後の回路を取得した場合は，`include_transpilation_result＝True`を設定して，タスクを実行します。"
      ]
    },
    {
      "cell_type": "code",
      "execution_count": null,
      "id": "ff2aee73",
      "metadata": {
        "id": "ff2aee73"
      },
      "outputs": [],
      "source": [
        "s_task_sc = dev_sc.submit_sampling_task(program=program, n_shots=1000, include_transpilation_result=True,)\n",
        "s_result_sc = s_task_sc.result()"
      ]
    },
    {
      "cell_type": "markdown",
      "id": "9c9b1b08",
      "metadata": {
        "id": "9c9b1b08"
      },
      "source": [
        "量子コンピュータで実際に計算したトランスパイル後の回路を描画します"
      ]
    },
    {
      "cell_type": "code",
      "execution_count": null,
      "id": "fb4443a8",
      "metadata": {
        "id": "fb4443a8"
      },
      "outputs": [],
      "source": [
        "# トランスパイル後の量子回路の取得\n",
        "transpiled_program = s_result_sc.transpilation.transpiled_program\n",
        "\n",
        "# 量子回路のロードと描画\n",
        "transpiled_circuit = loads(transpiled_program)\n",
        "transpiled_circuit.draw('mpl')"
      ]
    },
    {
      "cell_type": "markdown",
      "id": "652b6d65",
      "metadata": {
        "id": "652b6d65"
      },
      "source": [
        "# 2. 量子コンピュータを使ったGroverのアルゴリズムの実行\n",
        "\n",
        "本章では，[Quantum Native Dojo](https://dojo.qulacs.org/ja/latest/index.html) の ホームページの第8章2の[グローバのアルゴリズム](https://dojo.qulacs.org/ja/latest/notebooks/8.2_Grovers_algorithm.html) に沿って，Groverのアルゴリズムを紹介した後，実機で実行していただきます．以下，Quantum Native DojoのHPより引用を含む．  \n",
        "\n",
        "グローバーのアルゴリズムは，整列化されていないデータベースから特定のデータを探索するための量子アルゴリズムである[1]． グローバーのアルゴリズムは，ソートされていない $N$ 個のデータに対して，$O(√N)$ 回のクエリ（オラクルを呼ぶこと）で解を見出せる．古典コンピュータでは$O(N)$ 回のクエリが必要であるので，量子アルゴリズムを用いることで二次 (quadratic) の加速が実現されることになる．  \n",
        "\n",
        "オラクルさえ構成できれば，グローバーのアルゴリズムはあらゆる古典アルゴリズムの全探索部分を高速化することができる．例えば，\n",
        "   - 充足可能性問題（SAT問題）  \n",
        "   - 特定のハッシュ値から元の値を探索する問題  \n",
        "\n",
        "といった応用例が考えられ，後者は実際にビットコインのマイニング高速化として提案論文がある[2]．この節ではまずグローバーのアルゴリズムの理論的な説明を行い，その後 SDK による実装例を紹介する．\n"
      ]
    },
    {
      "cell_type": "markdown",
      "id": "b7ff4ba1",
      "metadata": {
        "id": "b7ff4ba1"
      },
      "source": [
        "## 2.1 Groverのアルゴリズム\n",
        "Groverのアルゴリズムは，整列化されてないデータベースから特定のデータを探索するための量子アルゴリズムである[\\^1]．\n",
        "\n",
        "[\\^1]: M. A. Nielsen and I. L. Chuang, “Quantum Computation and Quantum Information 10th Anniversary Edition“, University Printing House の 6.1 The quantum search algorithm\n",
        "\n",
        "__//アルゴリズムの流れ//__  \n",
        "\n",
        "グローバーのアルゴリズムの流れはシンプルで，以下の通りである． $N$ 個の要素からなるデータベースから $M$ 個の解を探索する問題を考え，要素のラベルを $n$ 桁のビット列 $x = x_1,…, x_n$ とする．\n",
        "1. 全ての状態の重ね合わせ状態 $\\lvert s \\rangle = \\frac{1}{\\sqrt{N}}\\sum_{x}\\lvert x \\rangle$ を用意する\n",
        "2. オラクル $U_w$（解に対する反転操作）を作用させる\n",
        "3. $\\lvert s \\rangle$ を対称軸にした反転操作 $U_s$ を作用させる\n",
        "4. ステップ 2,3 を $k$ 回繰り返す\n",
        "5. 測定を行う"
      ]
    },
    {
      "cell_type": "markdown",
      "id": "55588617",
      "metadata": {
        "id": "55588617"
      },
      "source": [
        "__//各ステップの詳細な説明//__\n",
        "\n",
        "1. 全ての状態の重ね合わせ状態 $\\lvert s \\rangle = \\frac{1}{\\sqrt{N}}\\sum_{x}\\lvert x \\rangle$ を用意する  \n",
        "    初期状態 $\\lvert 0⋯0 \\rangle$  に対して全ての量子ビットにアダマールゲート H をかける．  \n",
        "    $$    (H\\otimes ⋯\\otimes H)\\lvert 0⋯0 \\rangle = \\frac{1}{(\\sqrt{2})^n}(\\lvert 0 \\rangle+\\lvert 1 \\rangle)\\otimes ⋯\\otimes(\\lvert 0 \\rangle+\\lvert 1 \\rangle)=\\lvert s \\rangle$$  \n",
        "\n",
        "2. オラクル$U_w$(解に対して反転操作)を作用させる    \n",
        "    「入力 $\\lvert x \\rangle$ に対して $x$ が解なら$(-1)$をかけて位相を反転し，解でないなら何もしない」という演算を考える.    \n",
        "    $$U_w=I-2\\sum_{w\\in 解}{\\lvert w \\rangle \\langle w \\rvert},$$    \n",
        "  $$\n",
        "  U_w\\lvert x \\rangle =\n",
        "  \\begin{cases}\n",
        "  \\lvert x \\rangle \\quad (x \\text{ は解ではない}) \\\\\n",
        "  -\\lvert x \\rangle \\quad (x \\text{ は解である})\n",
        "  \\end{cases}\n",
        "  $$\n",
        "\n",
        "3. $\\lvert s \\rangle$ を対称軸にした反転操作 $U_s$ を作用させる  \n",
        "    すべての状態の重ね合わせ $\\lvert s \\rangle$ を対称軸にした反転操作$U_s$を作用させる.  \n",
        "    $$U_s = 2\\lvert s \\rangle \\langle s \\rvert-I$$  \n",
        "    この演算子は，入力状態 $\\lvert \\psi \\rangle = a\\lvert s \\rangle + b\\lvert s_{\\bot} \\rangle$ $(\\lvert s_{\\bot}\\rangle$ は，$\\lvert s \\rangle$ に直交するベクトル$)$ に対して\n",
        "    $$ U_s\\lvert \\psi \\rangle = a\\lvert s \\rangle - b\\lvert s_{\\bot} \\rangle $$  \n",
        "    と，作用し，$\\lvert s_{\\bot} \\rangle$ に比例する部分の位相だけ反転する.  \n",
        "\n",
        "4. ステップ2，3 を $k$ 回繰り返す  \n",
        "    2つの反転操作 $U_w$ と $U_s$ を繰り返す．およそ $O(\\sqrt{N/M})$ 回の繰り返しを行えば，次のステップ5の測定で十分高い確率で解が得られる.\n",
        "\n",
        "5. 測定を行う  \n",
        "ここまでのステップで状態は $(U_sU_w)^k\\lvert s \\rangle$ となっている．この状態は，解 $w$ に対する状態 $\\lvert w \\rangle$ の係数（の絶対値）のみが非常に大きくなっているので，計算基底で測定を行えば，高い確率で解 $w$（ビット列） が得られる．\n",
        "\n",
        "詳細な説明については，引用元，もしくは参考書等でご確認ください．\n",
        "\n",
        "    "
      ]
    },
    {
      "cell_type": "markdown",
      "id": "fb90286c",
      "metadata": {
        "id": "fb90286c"
      },
      "source": [
        "## 2.2 量子コンピュータを使用したGroverのアルゴリズムの実行"
      ]
    },
    {
      "cell_type": "markdown",
      "id": "d2f97d61",
      "metadata": {
        "id": "d2f97d61"
      },
      "source": [
        "### 2.2.1　量子回路の定義\n",
        "使用する量子回路を準備します．  \n",
        "\n",
        "#### (1) 全ての状態の重ね合わせ状態 $\\lvert s \\rangle = \\frac{1}{\\sqrt{N}}\\sum_{x}\\lvert x \\rangle$ を用意する\n",
        "\n",
        "Hゲートをすべての量子ビットに作用させ，均等な重ね合わせ状態を作成します．  \n",
        "\n",
        "$$\\lvert 00 \\rangle \\overset{\\text{H1, H2}}{\\rightarrow} \\frac{1}{2}(\\lvert 00 \\rangle+\\lvert 01 \\rangle+\\lvert 10 \\rangle+\\lvert 11 \\rangle)$$\n",
        "\n",
        "```python\n",
        "# 量子回路のコード  \n",
        "qc_grover_q2 = QuantumCircuit(2, 2)  \n",
        "qc_grover_q2.h([0, 1])\n",
        "```\n",
        "\n",
        "#### (2) オラクル $U_w$（解に対する反転操作）を作用させる\n",
        "\n",
        "今回の問題設定では探索数は4です．$\\lvert 11 \\rangle$をターゲットとし，以下のように$\\lvert 11 \\rangle$の位相をマイナスに反転するためには，オラクルには$CZ$ ゲートを使い，$\\lvert 11 \\rangle$ の位相（符号）を反転します．\n",
        "\n",
        "$$\\frac{1}{2}(\\lvert 00 \\rangle+\\lvert 01 \\rangle+\\lvert 10 \\rangle+\\lvert 11 \\rangle) \\overset{\\text{Oracle}}{\\rightarrow} \\frac{1}{2}(\\lvert 00 \\rangle+\\lvert 01 \\rangle+\\lvert 10 \\rangle-\\lvert 11 \\rangle)$$\n",
        "\n",
        "<div align=\"center\">\n",
        "\n",
        "| 探索対象 | 量子ビット上での状態表現 | CZゲートを使った場合 |  \n",
        "|:---|:---:|:---:|\n",
        "| 0 | $\\lvert 00 \\rangle$ | $CZ\\lvert 00 \\rangle = \\lvert 00 \\rangle$ |  \n",
        "| 1 | $\\lvert 01 \\rangle$ | $CZ\\lvert 01 \\rangle = \\lvert 01 \\rangle$ |  \n",
        "| 2 | $\\lvert 10 \\rangle$ | $CZ\\lvert 10 \\rangle = \\lvert 10 \\rangle$ |   \n",
        "| 3: ターゲット | $\\lvert 11 \\rangle$ | $CZ\\lvert 11 \\rangle = $ <span class=\"red-text\">- </span> $\\lvert 11 \\rangle$ |\n",
        "\n",
        "</div>\n",
        "\n",
        "```python\n",
        "# 量子回路のコード\n",
        "qc_grover_q2.cz(0, 1)\n",
        "```\n",
        "\n",
        "#### (3) $\\lvert s \\rangle$ を対称軸にした反転操作 $U_s$ を作用させる\n",
        "確率振幅を増幅するには，以下の回路を使用します．\n",
        "$$U_s = 2\\lvert s \\rangle \\langle s \\rvert - I = H^{\\otimes{2}}(2\\lvert 00 \\rangle \\langle 00 \\rvert -I)H^{\\otimes{2}}$$  \n",
        "\n",
        "この動作は量子回路では以下のようになります．\n",
        "```python\n",
        "# 量子回路のコード\n",
        "qc_grover_q2.h([0, 1])\n",
        "qc_grover_q2.x([0, 1])\n",
        "qc_grover_q2.cz(0, 1)\n",
        "qc_grover_q2.x([0, 1])\n",
        "qc_grover_q2.h([0, 1])\n",
        "```\n",
        "\n",
        "#### (4)，(5) 測定を行う．\n",
        "今回，求める解は $\\lvert 11 \\rangle$ の１つなので，繰り返し回数 $k = 1$ とし，測定します．\n",
        "```python\n",
        "# 量子回路のコード\n",
        "qc_grover_q2.measure([0, 1], [0, 1])\n",
        "```\n",
        "\n",
        "以上から，使用するグローバのアルゴリズムの量子回路は以下になります."
      ]
    },
    {
      "cell_type": "code",
      "execution_count": null,
      "id": "cefaa5bb",
      "metadata": {
        "id": "cefaa5bb"
      },
      "outputs": [],
      "source": [
        "# 2量子ビット + 測定用の古典ビット\n",
        "qc_grover_q2 = QuantumCircuit(2, 2)\n",
        "\n",
        "# 初期化（Hadamardで重ね合わせ）\n",
        "qc_grover_q2.h([0, 1])\n",
        "\n",
        "# オラクル（|11⟩の符号反転）\n",
        "qc_grover_q2.cz(0, 1)  # CZゲートで |11⟩ の位相を反転\n",
        "\n",
        "# ディフュージョン演算子（振幅増幅）\n",
        "qc_grover_q2.h([0, 1])\n",
        "qc_grover_q2.x([0, 1])\n",
        "qc_grover_q2.cz(0, 1)\n",
        "qc_grover_q2.x([0, 1])\n",
        "qc_grover_q2.h([0, 1])\n",
        "\n",
        "# 測定\n",
        "qc_grover_q2.measure([0, 1], [0, 1])"
      ]
    },
    {
      "cell_type": "markdown",
      "id": "574d8110",
      "metadata": {
        "id": "574d8110"
      },
      "source": [
        "### 2.2.2 量子回路の確認とOpenQASM3.0への変換\n",
        "実行する量子回路を確認するため描画します．"
      ]
    },
    {
      "cell_type": "code",
      "execution_count": null,
      "id": "f9d71939",
      "metadata": {
        "id": "f9d71939"
      },
      "outputs": [],
      "source": [
        "qc_grover_q2.draw('mpl')"
      ]
    },
    {
      "cell_type": "markdown",
      "id": "9d8aaa14",
      "metadata": {
        "id": "9d8aaa14"
      },
      "source": [
        "量子回路をOpenQASM3.0形式に変換します．"
      ]
    },
    {
      "cell_type": "code",
      "execution_count": null,
      "id": "31b3df11",
      "metadata": {
        "id": "31b3df11"
      },
      "outputs": [],
      "source": [
        "prg_grover_q2 = dumps(qc_grover_q2)"
      ]
    },
    {
      "cell_type": "markdown",
      "id": "c787a181",
      "metadata": {
        "id": "c787a181"
      },
      "source": [
        "### 2.2.3 関数定義  \n",
        "グローバの量子回路を投入，結果を取得する `run_sampling()` 関数を定義します．サンプリング計算を行うので`**.submit_sampling_task()`を使います．ショット数，エラー緩和の有無，コンパイル後の量子回路を確認するため，`n_shots`，`ro_error_mitigation`と `include_transpilation_result=True` のオプションを指定します．"
      ]
    },
    {
      "cell_type": "code",
      "execution_count": null,
      "id": "646e2773",
      "metadata": {
        "id": "646e2773"
      },
      "outputs": [],
      "source": [
        "import matplotlib.pyplot as plt\n",
        "def run_sampling(device_id, program, nShots, ro_error_mitigation='none'):\n",
        "    from fujitsu_quantum.devices import Devices\n",
        "    from fujitsu_quantum.tasks import Task\n",
        "\n",
        "    dev_sim = Devices.get(device_id)\n",
        "\n",
        "    if device_id == 'SC': # 量子コンピュータ実機の場合\n",
        "        task = dev_sim.submit_sampling_task(program=program,\n",
        "                                            n_shots=nShots,\n",
        "#                                            ro_error_mitigation=ro_error_mitigation,\n",
        "                                            include_transpilation_result=True)\n",
        "    else:                 # 量子回路シミュレータの場合\n",
        "        task = dev_sim.submit_sampling_task(program=program,\n",
        "                                            n_shots=nShots,\n",
        "                                            include_transpilation_result=True)\n",
        "\n",
        "    result = task.result()\n",
        "    print(f'{result.counts=}')\n",
        "    return result"
      ]
    },
    {
      "cell_type": "markdown",
      "id": "fbfcb1de",
      "metadata": {
        "id": "fbfcb1de"
      },
      "source": [
        "### 2.2.4 Grover回路を量子回路シミュレータで実行\n",
        "量子回路シミュレータで実行します．"
      ]
    },
    {
      "cell_type": "code",
      "execution_count": null,
      "id": "5fafc541",
      "metadata": {
        "id": "5fafc541"
      },
      "outputs": [],
      "source": [
        "# 実行するデバイスの指定\n",
        "device_id02 = 'SVSim'\n",
        "\n",
        "# タスクパラメータの指定\n",
        "program = prg_grover_q2\n",
        "nShots = 1000\n",
        "\n",
        "# タスクの投入\n",
        "grvr_result_q2_id02 = run_sampling(device_id02, program, nShots)\n"
      ]
    },
    {
      "cell_type": "markdown",
      "id": "4291df07",
      "metadata": {
        "id": "4291df07"
      },
      "source": [
        "- 量子回路シミュレータで使用したトランスパイル後の量子回路の描画"
      ]
    },
    {
      "cell_type": "code",
      "execution_count": null,
      "id": "33fb2c8f",
      "metadata": {
        "id": "33fb2c8f"
      },
      "outputs": [],
      "source": [
        "# コンパイル後の量子回路の取得\n",
        "transpiled_grover_q2_id02 = grvr_result_q2_id02 .transpilation.transpiled_program\n",
        "\n",
        "# 量子回路のロードと描画\n",
        "transpiled_qc_id02 = loads(transpiled_grover_q2_id02)\n",
        "transpiled_qc_id02.draw('mpl')"
      ]
    },
    {
      "cell_type": "markdown",
      "id": "537fe047",
      "metadata": {
        "id": "537fe047"
      },
      "source": [
        "- 結果の取得"
      ]
    },
    {
      "cell_type": "code",
      "execution_count": null,
      "id": "ffec9e67",
      "metadata": {
        "id": "ffec9e67"
      },
      "outputs": [],
      "source": [
        "# 結果の並び替え\n",
        "sorted_grvr_result_q2_id02: dict[str, int] = dict(sorted(grvr_result_q2_id02.counts.items()))\n",
        "counts_q2_id02 = sorted_grvr_result_q2_id02\n",
        "print(counts_q2_id02)"
      ]
    },
    {
      "cell_type": "markdown",
      "id": "e013c8d8",
      "metadata": {
        "id": "e013c8d8"
      },
      "source": [
        "- 結果の確認  \n",
        "グラフに描画します．"
      ]
    },
    {
      "cell_type": "code",
      "execution_count": null,
      "id": "a7759130",
      "metadata": {
        "id": "a7759130"
      },
      "outputs": [],
      "source": [
        "title = 'Measurements Results device_id = ' + device_id02 + ')'\n",
        "plot_histogram(counts_q2_id02, title=title)"
      ]
    },
    {
      "cell_type": "markdown",
      "id": "e5da3484",
      "metadata": {
        "id": "e5da3484"
      },
      "source": [
        "### 2.2.5 量子コンピュータで、Grover回路を実行\n",
        "\n",
        "- 量子コンピュータで実行します"
      ]
    },
    {
      "cell_type": "code",
      "execution_count": null,
      "id": "aca024c3",
      "metadata": {
        "id": "aca024c3"
      },
      "outputs": [],
      "source": [
        "# 実行するデバイスの指定\n",
        "device_id01 = 'SC'\n",
        "\n",
        "# タスクパラメータの指定\n",
        "program = prg_grover_q2\n",
        "nShots = 1000\n",
        "\n",
        "# タスクの投入\n",
        "grvr_result_q2_id01 = run_sampling(device_id01, program, nShots)"
      ]
    },
    {
      "cell_type": "markdown",
      "id": "3ff99b88",
      "metadata": {
        "id": "3ff99b88"
      },
      "source": [
        "- 量子コンピュータで使用したトランスパイル後の量子回路の確認"
      ]
    },
    {
      "cell_type": "code",
      "execution_count": null,
      "id": "169bcc7a",
      "metadata": {
        "id": "169bcc7a"
      },
      "outputs": [],
      "source": [
        "# コンパイル後の量子回路の取得\n",
        "transpiled_grover_q2_id01 = grvr_result_q2_id01.transpilation.transpiled_program\n",
        "\n",
        "# 量子回路のロードと描画\n",
        "transpiled_qc_id01 = loads(transpiled_grover_q2_id01)\n",
        "transpiled_qc_id01.draw('mpl')"
      ]
    },
    {
      "cell_type": "markdown",
      "id": "87b27746",
      "metadata": {
        "id": "87b27746"
      },
      "source": [
        "- 結果の取得"
      ]
    },
    {
      "cell_type": "code",
      "execution_count": null,
      "id": "0e99332c",
      "metadata": {
        "id": "0e99332c"
      },
      "outputs": [],
      "source": [
        "# 結果の並び替え\n",
        "sorted_grvr_result_q2_id01: dict[str, int] = dict(sorted(grvr_result_q2_id01.counts.items()))\n",
        "counts_q2_id01 = sorted_grvr_result_q2_id01\n",
        "print(counts_q2_id01)"
      ]
    },
    {
      "cell_type": "markdown",
      "id": "6261f5ce",
      "metadata": {
        "id": "6261f5ce"
      },
      "source": [
        "- 結果の確認  \n",
        "グラフに描画します．"
      ]
    },
    {
      "cell_type": "code",
      "execution_count": null,
      "id": "15f8fbe0",
      "metadata": {
        "id": "15f8fbe0"
      },
      "outputs": [],
      "source": [
        "title = 'Measurements Results device_id = ' + device_id01 + ')'\n",
        "plot_histogram(counts_q2_id01, title=title)"
      ]
    },
    {
      "cell_type": "markdown",
      "id": "45cdff50",
      "metadata": {
        "id": "45cdff50"
      },
      "source": [
        "### 2.2.6 量子コンピュータと量子回路シミュレータの結果の比較\n",
        "\n",
        "量子コンピュータの結果と量子回路シミュレータの結果を合わせて描画し，比較します．量子コンピュータ`SC`では，`11`以外の状態を含む一方で，量子回路シミュレータ`SVSim`では，`11`以外の状態がないことを確認できます．"
      ]
    },
    {
      "cell_type": "code",
      "execution_count": null,
      "id": "ee145ca1",
      "metadata": {
        "id": "ee145ca1"
      },
      "outputs": [],
      "source": [
        "plot_histogram([counts_q2_id01, counts_q2_id02], legend=[device_id01, device_id02])\n"
      ]
    },
    {
      "cell_type": "markdown",
      "id": "ce9e8b0b",
      "metadata": {
        "id": "ce9e8b0b"
      },
      "source": [
        "#### (補足) エラー緩和オプションの実行\n",
        "エラー緩和オプションを”あり”で実行した場合は，以下のようになります．"
      ]
    },
    {
      "cell_type": "code",
      "execution_count": null,
      "id": "b1a32100",
      "metadata": {
        "id": "b1a32100"
      },
      "outputs": [],
      "source": [
        "# タスクパラメータの指定\n",
        "program = prg_grover_q2\n",
        "nShots = 1000\n",
        "device_id01 = 'SC'\n",
        "grvr_result_q2_id01_roem = run_sampling(device_id01, program, nShots=1000, ro_error_mitigation='pseudo_inverse')"
      ]
    },
    {
      "cell_type": "markdown",
      "id": "77c31429",
      "metadata": {
        "id": "77c31429"
      },
      "source": [
        "- 結果の表示  \n",
        "計算結果をグラフに表示します．"
      ]
    },
    {
      "cell_type": "code",
      "execution_count": null,
      "id": "acb050a4",
      "metadata": {
        "id": "acb050a4"
      },
      "outputs": [],
      "source": [
        "sorted_grvr_result_q2_id01_roem: dict[str, int] = dict(sorted(grvr_result_q2_id01_roem.counts.items()))\n",
        "counts_q2_id01_roem = sorted_grvr_result_q2_id01_roem\n",
        "\n",
        "title = 'Measurements Results device_id = ' + device_id01 + ')'\n",
        "plot_histogram(counts_q2_id01_roem, title=title)"
      ]
    },
    {
      "cell_type": "markdown",
      "id": "e7b4440e",
      "metadata": {
        "id": "e7b4440e"
      },
      "source": [
        "- エラー緩和あり，なしの量子コンピュータの計算結果の比較   \n",
        "計算結果をグラフで比較します．若干の改善がみられます．\n"
      ]
    },
    {
      "cell_type": "code",
      "execution_count": null,
      "id": "84f017e5",
      "metadata": {
        "id": "84f017e5"
      },
      "outputs": [],
      "source": [
        "title = 'Compare results (device=\"SC\")'\n",
        "plot_histogram([counts_q2_id01, counts_q2_id01_roem], legend=['without error mitigation', 'with error mitigation'], title=title)"
      ]
    },
    {
      "cell_type": "markdown",
      "id": "59ba1de0",
      "metadata": {
        "id": "59ba1de0"
      },
      "source": [
        "以上で本日のハンズオンの内容は，終了になります。  \n",
        "ご参加ありがとうございました。\n",
        "\n",
        "最後に，アンケートのご記入，ご提出をよろしくお願いいたします．"
      ]
    }
  ],
  "metadata": {
    "kernelspec": {
      "display_name": "py312_prod",
      "language": "python",
      "name": "python3"
    },
    "language_info": {
      "codemirror_mode": {
        "name": "ipython",
        "version": 3
      },
      "file_extension": ".py",
      "mimetype": "text/x-python",
      "name": "python",
      "nbconvert_exporter": "python",
      "pygments_lexer": "ipython3",
      "version": "3.12.11"
    },
    "colab": {
      "provenance": []
    }
  },
  "nbformat": 4,
  "nbformat_minor": 5
}
