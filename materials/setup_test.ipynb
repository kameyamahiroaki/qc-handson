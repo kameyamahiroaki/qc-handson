{
  "nbformat": 4,
  "nbformat_minor": 0,
  "metadata": {
    "colab": {
      "provenance": []
    },
    "kernelspec": {
      "name": "python3",
      "display_name": "Python 3"
    },
    "language_info": {
      "name": "python"
    }
  },
  "cells": [
    {
      "cell_type": "code",
      "execution_count": 2,
      "metadata": {
        "colab": {
          "base_uri": "https://localhost:8080/"
        },
        "id": "GhCbGYTHT1di",
        "outputId": "ee827903-5022-4eee-dabf-25f0d27432b0"
      },
      "outputs": [
        {
          "output_type": "stream",
          "name": "stdout",
          "text": [
            "Collecting fujitsu-quantum\n",
            "  Downloading fujitsu_quantum-2.1.0-py3-none-any.whl.metadata (466 bytes)\n",
            "Collecting boto3~=1.36 (from fujitsu-quantum)\n",
            "  Downloading boto3-1.39.8-py3-none-any.whl.metadata (6.6 kB)\n",
            "Collecting cryptography~=44.0 (from fujitsu-quantum)\n",
            "  Downloading cryptography-44.0.3-cp39-abi3-manylinux_2_34_x86_64.whl.metadata (5.7 kB)\n",
            "Requirement already satisfied: filelock~=3.17 in /usr/local/lib/python3.11/dist-packages (from fujitsu-quantum) (3.18.0)\n",
            "Requirement already satisfied: grpcio~=1.70 in /usr/local/lib/python3.11/dist-packages (from fujitsu-quantum) (1.73.1)\n",
            "Requirement already satisfied: protobuf~=5.29 in /usr/local/lib/python3.11/dist-packages (from fujitsu-quantum) (5.29.5)\n",
            "Collecting pycognito~=2024.5 (from fujitsu-quantum)\n",
            "  Downloading pycognito-2024.5.1-py3-none-any.whl.metadata (24 kB)\n",
            "Collecting pyjson5~=1.6 (from fujitsu-quantum)\n",
            "  Downloading pyjson5-1.6.9-cp311-cp311-manylinux_2_17_x86_64.manylinux2014_x86_64.whl.metadata (3.0 kB)\n",
            "Requirement already satisfied: requests~=2.32 in /usr/local/lib/python3.11/dist-packages (from fujitsu-quantum) (2.32.3)\n",
            "Collecting botocore<1.40.0,>=1.39.8 (from boto3~=1.36->fujitsu-quantum)\n",
            "  Downloading botocore-1.39.8-py3-none-any.whl.metadata (5.7 kB)\n",
            "Collecting jmespath<2.0.0,>=0.7.1 (from boto3~=1.36->fujitsu-quantum)\n",
            "  Downloading jmespath-1.0.1-py3-none-any.whl.metadata (7.6 kB)\n",
            "Collecting s3transfer<0.14.0,>=0.13.0 (from boto3~=1.36->fujitsu-quantum)\n",
            "  Downloading s3transfer-0.13.0-py3-none-any.whl.metadata (1.7 kB)\n",
            "Requirement already satisfied: cffi>=1.12 in /usr/local/lib/python3.11/dist-packages (from cryptography~=44.0->fujitsu-quantum) (1.17.1)\n",
            "Collecting envs>=1.3 (from pycognito~=2024.5->fujitsu-quantum)\n",
            "  Downloading envs-1.4-py3-none-any.whl.metadata (842 bytes)\n",
            "Requirement already satisfied: pyjwt>=2.8.0 in /usr/local/lib/python3.11/dist-packages (from pyjwt[crypto]>=2.8.0->pycognito~=2024.5->fujitsu-quantum) (2.10.1)\n",
            "Requirement already satisfied: charset-normalizer<4,>=2 in /usr/local/lib/python3.11/dist-packages (from requests~=2.32->fujitsu-quantum) (3.4.2)\n",
            "Requirement already satisfied: idna<4,>=2.5 in /usr/local/lib/python3.11/dist-packages (from requests~=2.32->fujitsu-quantum) (3.10)\n",
            "Requirement already satisfied: urllib3<3,>=1.21.1 in /usr/local/lib/python3.11/dist-packages (from requests~=2.32->fujitsu-quantum) (2.4.0)\n",
            "Requirement already satisfied: certifi>=2017.4.17 in /usr/local/lib/python3.11/dist-packages (from requests~=2.32->fujitsu-quantum) (2025.7.14)\n",
            "Requirement already satisfied: python-dateutil<3.0.0,>=2.1 in /usr/local/lib/python3.11/dist-packages (from botocore<1.40.0,>=1.39.8->boto3~=1.36->fujitsu-quantum) (2.9.0.post0)\n",
            "Requirement already satisfied: pycparser in /usr/local/lib/python3.11/dist-packages (from cffi>=1.12->cryptography~=44.0->fujitsu-quantum) (2.22)\n",
            "Requirement already satisfied: six>=1.5 in /usr/local/lib/python3.11/dist-packages (from python-dateutil<3.0.0,>=2.1->botocore<1.40.0,>=1.39.8->boto3~=1.36->fujitsu-quantum) (1.17.0)\n",
            "Downloading fujitsu_quantum-2.1.0-py3-none-any.whl (41 kB)\n",
            "\u001b[2K   \u001b[90m━━━━━━━━━━━━━━━━━━━━━━━━━━━━━━━━━━━━━━━━\u001b[0m \u001b[32m41.6/41.6 kB\u001b[0m \u001b[31m3.7 MB/s\u001b[0m eta \u001b[36m0:00:00\u001b[0m\n",
            "\u001b[?25hDownloading boto3-1.39.8-py3-none-any.whl (139 kB)\n",
            "\u001b[2K   \u001b[90m━━━━━━━━━━━━━━━━━━━━━━━━━━━━━━━━━━━━━━━━\u001b[0m \u001b[32m139.9/139.9 kB\u001b[0m \u001b[31m7.9 MB/s\u001b[0m eta \u001b[36m0:00:00\u001b[0m\n",
            "\u001b[?25hDownloading cryptography-44.0.3-cp39-abi3-manylinux_2_34_x86_64.whl (4.2 MB)\n",
            "\u001b[2K   \u001b[90m━━━━━━━━━━━━━━━━━━━━━━━━━━━━━━━━━━━━━━━━\u001b[0m \u001b[32m4.2/4.2 MB\u001b[0m \u001b[31m69.3 MB/s\u001b[0m eta \u001b[36m0:00:00\u001b[0m\n",
            "\u001b[?25hDownloading pycognito-2024.5.1-py3-none-any.whl (26 kB)\n",
            "Downloading pyjson5-1.6.9-cp311-cp311-manylinux_2_17_x86_64.manylinux2014_x86_64.whl (181 kB)\n",
            "\u001b[2K   \u001b[90m━━━━━━━━━━━━━━━━━━━━━━━━━━━━━━━━━━━━━━━━\u001b[0m \u001b[32m181.4/181.4 kB\u001b[0m \u001b[31m19.7 MB/s\u001b[0m eta \u001b[36m0:00:00\u001b[0m\n",
            "\u001b[?25hDownloading botocore-1.39.8-py3-none-any.whl (13.9 MB)\n",
            "\u001b[2K   \u001b[90m━━━━━━━━━━━━━━━━━━━━━━━━━━━━━━━━━━━━━━━━\u001b[0m \u001b[32m13.9/13.9 MB\u001b[0m \u001b[31m55.6 MB/s\u001b[0m eta \u001b[36m0:00:00\u001b[0m\n",
            "\u001b[?25hDownloading envs-1.4-py3-none-any.whl (10 kB)\n",
            "Downloading jmespath-1.0.1-py3-none-any.whl (20 kB)\n",
            "Downloading s3transfer-0.13.0-py3-none-any.whl (85 kB)\n",
            "\u001b[2K   \u001b[90m━━━━━━━━━━━━━━━━━━━━━━━━━━━━━━━━━━━━━━━━\u001b[0m \u001b[32m85.2/85.2 kB\u001b[0m \u001b[31m8.5 MB/s\u001b[0m eta \u001b[36m0:00:00\u001b[0m\n",
            "\u001b[?25hInstalling collected packages: pyjson5, jmespath, envs, cryptography, botocore, s3transfer, boto3, pycognito, fujitsu-quantum\n",
            "  Attempting uninstall: cryptography\n",
            "    Found existing installation: cryptography 43.0.3\n",
            "    Uninstalling cryptography-43.0.3:\n",
            "      Successfully uninstalled cryptography-43.0.3\n",
            "\u001b[31mERROR: pip's dependency resolver does not currently take into account all the packages that are installed. This behaviour is the source of the following dependency conflicts.\n",
            "pyopenssl 24.2.1 requires cryptography<44,>=41.0.5, but you have cryptography 44.0.3 which is incompatible.\n",
            "pydrive2 1.21.3 requires cryptography<44, but you have cryptography 44.0.3 which is incompatible.\u001b[0m\u001b[31m\n",
            "\u001b[0mSuccessfully installed boto3-1.39.8 botocore-1.39.8 cryptography-44.0.3 envs-1.4 fujitsu-quantum-2.1.0 jmespath-1.0.1 pycognito-2024.5.1 pyjson5-1.6.9 s3transfer-0.13.0\n"
          ]
        }
      ],
      "source": [
        "!pip install fujitsu-quantum"
      ]
    },
    {
      "cell_type": "code",
      "source": [],
      "metadata": {
        "id": "HoIS2cHlT4qK"
      },
      "execution_count": null,
      "outputs": []
    }
  ]
}